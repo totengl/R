{
 "cells": [
  {
   "cell_type": "markdown",
   "metadata": {},
   "source": [
    "# R Programming A-Z™: R For Data Science\n",
    "\n",
    "© Kirill Eremenko, SuperDataScience Team [SuperDataScience](https://www.superdatascience.com)\n",
    "\n",
    "Created on May 12th, 2020 @author: totengl\n"
   ]
  },
  {
   "cell_type": "code",
   "execution_count": 19,
   "metadata": {},
   "outputs": [
    {
     "name": "stdout",
     "output_type": "stream",
     "text": [
      "Profit in thousands: 3 2 -4 -3 -1 7 8 4 3 -2 1 12 \n",
      "Profitafter tax in thousands: 2 1 -3 -2 0 5 6 3 2 -2 0 8 \n",
      "Percentage profit margin: 12 18 -30 -22 -5 63 50 28 23 -11 4 53 \n",
      "Goodmonths: TRUE FALSE FALSE FALSE FALSE TRUE TRUE TRUE TRUE FALSE FALSE TRUE \n",
      "Badmonths: FALSE TRUE TRUE TRUE TRUE FALSE FALSE FALSE FALSE TRUE TRUE FALSE \n",
      "Bestmonth: FALSE FALSE FALSE FALSE FALSE FALSE FALSE FALSE FALSE FALSE FALSE TRUE \n",
      "Worstmonth: FALSE FALSE TRUE FALSE FALSE FALSE FALSE FALSE FALSE FALSE FALSE FALSE \n"
     ]
    }
   ],
   "source": [
    "#Data\n",
    "revenue <- c(14574.49, 7606.46, 8611.41, 9175.41, 8058.65, 8105.44, 11496.28, 9766.09, 10305.32, 14379.96, 10713.97, 15433.50)\n",
    "expenses <- c(12051.82, 5695.07, 12319.20, 12089.72, 8658.57, 840.20, 3285.73, 5821.12, 6976.93, 16618.61, 10054.37, 3803.96)\n",
    "\n",
    "#Solution\n",
    "\n",
    "#profit\n",
    "profit<- revenue-expenses\n",
    "roundedprofit<- round(profit,-3)/1000\n",
    "\n",
    "profitaftertax<-0.7*profit\n",
    "roundedprofitaftertax<-round(profitaftertax,-3)/1000\n",
    "\n",
    "profitmargin<-profitaftertax/revenue\n",
    "percentprofitmargin<- round(profitmargin*100,0)\n",
    "\n",
    "meanforyear<-mean(profitaftertax)\n",
    "goodmonths<-profitaftertax>meanforyear\n",
    "badmonths<-profitaftertax<meanforyear\n",
    "bestmonth<-profitaftertax==max(profitaftertax)\n",
    "worstmonth<- profitaftertax==min(profitaftertax)\n",
    "\n",
    "cat(\"Profit in thousands:\",roundedprofit, \"\\n\")\n",
    "cat(\"Profitafter tax in thousands:\", roundedprofitaftertax,\"\\n\")\n",
    "cat(\"Percentage profit margin:\", percentprofitmargin,\"\\n\")\n",
    "cat(\"Goodmonths:\",goodmonths,\"\\n\")\n",
    "cat(\"Badmonths:\", badmonths,\"\\n\")\n",
    "cat(\"Bestmonth:\",bestmonth,\"\\n\")\n",
    "cat(\"Worstmonth:\", worstmonth,\"\\n\")\n"
   ]
  }
 ],
 "metadata": {
  "kernelspec": {
   "display_name": "R",
   "language": "R",
   "name": "ir"
  },
  "language_info": {
   "codemirror_mode": "r",
   "file_extension": ".r",
   "mimetype": "text/x-r-source",
   "name": "R",
   "pygments_lexer": "r",
   "version": "3.6.1"
  }
 },
 "nbformat": 4,
 "nbformat_minor": 4
}
